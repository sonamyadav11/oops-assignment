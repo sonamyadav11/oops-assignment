{
  "nbformat": 4,
  "nbformat_minor": 0,
  "metadata": {
    "colab": {
      "provenance": [],
      "authorship_tag": "ABX9TyMiaF0bQQHQ5haAabNqilKk",
      "include_colab_link": true
    },
    "kernelspec": {
      "name": "python3",
      "display_name": "Python 3"
    },
    "language_info": {
      "name": "python"
    }
  },
  "cells": [
    {
      "cell_type": "markdown",
      "metadata": {
        "id": "view-in-github",
        "colab_type": "text"
      },
      "source": [
        "<a href=\"https://colab.research.google.com/github/sonamyadav11/oops-assignment/blob/main/opps_assign_.ipynb\" target=\"_parent\"><img src=\"https://colab.research.google.com/assets/colab-badge.svg\" alt=\"Open In Colab\"/></a>"
      ]
    },
    {
      "cell_type": "markdown",
      "source": [
        "Q1 What are the five key concepts of Object-Oriented Programming (OOP)?\n",
        "\n",
        "ans: Encapsulation\n",
        "1.Encapsulation involves bundling the data (attributes) and methods (functions) that operate on the data into a single unit, called a class. It restricts direct access to some of the object's components, which helps protect the integrity of the data and makes the code easier to maintain.\n",
        "\n",
        "\n",
        "2.Abstraction\n",
        "Abstraction focuses on hiding the complexity of an object's implementation and exposing only the essential details to the user. This simplifies the use of complex systems by providing a clear interface.\n",
        "\n",
        "\n",
        "3.Inheritance\n",
        "Inheritance allows a class (child or subclass) to acquire the properties and behaviors of another class (parent or superclass). It promotes code reuse and establishes a hierarchical relationship between classes.\n",
        "\n",
        "4.Polymorphism\n",
        "Polymorphism allows methods or functions to take on multiple forms. It enables the same operation to behave differently on different classes, achieved via method overriding or overloading.\n",
        "\n",
        "\n",
        "5.Decorator\n",
        "decorators are a powerful tool to modify or extend the behavior of functions or classes without modifying their source code. Decorators wrap a function (or method) and add some behavior before or after the wrapped function is executed.\n",
        "\n"
      ],
      "metadata": {
        "id": "wXv8992rALQb"
      }
    },
    {
      "cell_type": "markdown",
      "source": [],
      "metadata": {
        "id": "SRkkzrN86Lq6"
      }
    },
    {
      "cell_type": "markdown",
      "source": [],
      "metadata": {
        "id": "f2GIyTUrXzRw"
      }
    },
    {
      "cell_type": "code",
      "source": [
        " #2. Write a Python class for a `Car` with attributes for `make`, `model`, and `year`. Include a method to display the car's information\n",
        "\n",
        " class Car:\n",
        "  def __init__(self,make,model,year):\n",
        "    self.make=make\n",
        "    self.model=model\n",
        "    self.year=year\n",
        "\n",
        "  def car_info(self):\n",
        "    print(f\"car information:\\n make:{self.make}\\nmodel:{self.model}\\nyear:{self.year}\")\n",
        "\n",
        "car_object= Car(make=\"Toyota\", model=\"Saffari\", year=2020)\n",
        "car_object.car_info()"
      ],
      "metadata": {
        "colab": {
          "base_uri": "https://localhost:8080/"
        },
        "id": "TMcXjfUNIhpc",
        "outputId": "8a620fd0-4591-4c06-fbcb-5ecc3e020049"
      },
      "execution_count": null,
      "outputs": [
        {
          "output_type": "stream",
          "name": "stdout",
          "text": [
            "car information:\n",
            " make:Toyota\n",
            "model:Saffari\n",
            "year:2020\n"
          ]
        }
      ]
    },
    {
      "cell_type": "markdown",
      "source": [
        " 3. Explain the difference between instance methods and class methods. Provide an example of each.\n",
        "\n",
        " Ans:\n",
        " instance method is a method that works with individual objects (instances) of a class. It is the most common type of method and is used to access and modify the attributes of a specific object.\n",
        "\n",
        "Instance method is always defined with the parameter self to refer to the current instance of the class.\n",
        "It works with attributes that belong to the specific object (instance) created from the class.\n",
        "\n",
        "\n",
        "A class method is a method that works with the class itself, not individual objects. Class methods are defined with the parameter cls, which refers to the class and not an individual object. You usually use class methods to modify or access class-level attributes (attributes that are shared across all instances of the class).\n",
        "\n",
        "Class method is always defined with the @classmethod decorator and uses cls as the first parameter to refer to the class.\n",
        "It can modify class-level attributes that are shared by all instances of the class."
      ],
      "metadata": {
        "id": "g9Yv6wtuANYp"
      }
    },
    {
      "cell_type": "code",
      "source": [
        "# instance method:\n",
        "class Dog:\n",
        "  def __init__(self,name,age):\n",
        "    self.name=name\n",
        "    self.age=age\n",
        "\n",
        "  def bark(self):\n",
        "    print(f\"{self.name} is barking!\")\n",
        "\n",
        "dog=Dog(\"Tommy\",2)\n",
        "dog.bark()\n"
      ],
      "metadata": {
        "colab": {
          "base_uri": "https://localhost:8080/"
        },
        "id": "wE73eO_-ODV-",
        "outputId": "be18c080-7060-4dd7-dd42-57ba5b6aba2d"
      },
      "execution_count": null,
      "outputs": [
        {
          "output_type": "stream",
          "name": "stdout",
          "text": [
            "Tommy is barking!\n"
          ]
        }
      ]
    },
    {
      "cell_type": "code",
      "source": [
        "# class method:\n",
        "class Car:\n",
        "    make = \"Toyota\"\n",
        "    def __init__(self, model, year):\n",
        "        self.model = model\n",
        "        self.year = year\n",
        "    @classmethod\n",
        "    def change_make(cls, new_make):\n",
        "        cls.make = new_make\n",
        "\n",
        "    def display_info(self):\n",
        "        print(f\"{self.year} {self.make} {self.model}\")\n",
        "\n",
        "\n",
        "\n",
        "car1 = Car(\"Corolla\", 2020)\n",
        "car2 = Car(\"Camry\", 2022)\n",
        "\n",
        "\n",
        "car1.display_info()\n",
        "car2.display_info()\n",
        "\n",
        "\n",
        "Car.change_make(\"Honda\")\n",
        "car3 = Car(\"Camry\", 2025)\n",
        "car3.display_info()\n",
        "\n",
        "\n",
        "\n",
        "\n",
        "\n"
      ],
      "metadata": {
        "colab": {
          "base_uri": "https://localhost:8080/"
        },
        "id": "ZgeO-EU8PDGf",
        "outputId": "6c91a4c8-02ca-4f80-94fb-806d98a3e9c0"
      },
      "execution_count": null,
      "outputs": [
        {
          "output_type": "stream",
          "name": "stdout",
          "text": [
            "2020 Toyota Corolla\n",
            "2022 Toyota Camry\n",
            "2025 Honda Camry\n"
          ]
        }
      ]
    },
    {
      "cell_type": "markdown",
      "source": [
        "4 How does Python implement method overloading? Give an example.\n",
        "Python does not support method overloading directly in the way some other languages like Java or C++ do. In Python, if you define multiple methods with the same name, the last definition will override the previous ones.\n",
        "\n",
        "However, Python can simulate method overloading using:\n",
        "\n",
        "Default arguments in functions.\n",
        "Variable arguments\n",
        "Checking the types of arguments inside the method."
      ],
      "metadata": {
        "id": "sJIvxBCMX1cW"
      }
    },
    {
      "cell_type": "code",
      "source": [
        "class Calculator:\n",
        "    def add(self, a, b=0, c=0):\n",
        "        return a + b + c\n",
        "\n",
        "calc = Calculator()\n",
        "print(calc.add(5))           # One argument: Output -> 5\n",
        "print(calc.add(5, 10))       # Two arguments: Output -> 15\n",
        "print(calc.add(5, 10, 15))"
      ],
      "metadata": {
        "id": "xrCCO9_HSyup",
        "colab": {
          "base_uri": "https://localhost:8080/"
        },
        "outputId": "44f04ab7-6354-45f5-8187-7b548d8e1d75"
      },
      "execution_count": null,
      "outputs": [
        {
          "output_type": "stream",
          "name": "stdout",
          "text": [
            "5\n",
            "15\n",
            "30\n"
          ]
        }
      ]
    },
    {
      "cell_type": "markdown",
      "source": [
        "5. What are the three types of access modifiers in Python? How are they denoted?\n",
        "\n",
        "1. Public\n",
        "Description: Members are accessible from anywhere (inside or outside the class).\n",
        "Default Modifier: In Python, all members are public by default.\n",
        "Denotation: No special syntax; just define the member.\n",
        "python\n",
        "\n",
        "2. Protected\n",
        "Description: Members are intended to be accessible only within the class and its subclasses.\n",
        "Denotation: Prefix the member name with a single underscore _.\n",
        "Note: Python does not enforce strict protection, but this is a convention to signal to developers that the member is intended to be protected.\n",
        "\n",
        "3. Private\n",
        "Description: Members are not accessible outside the class; intended for internal use only.\n",
        "Denotation: Prefix the member name with a double underscore __.\n",
        "Name Mangling: Python uses name mangling to make private members less accessible by modifying their names internally (e.g., __name becomes _ClassName__name).\n",
        "\n"
      ],
      "metadata": {
        "id": "BWn0sVQSalhy"
      }
    },
    {
      "cell_type": "markdown",
      "source": [
        " 6. Describe the five types of inheritance in Python. Provide a simple example of multiple inheritance\n",
        "\n",
        " ans: Inheritance is a feature in object-oriented programming that allows one class (child or subclass) to inherit attributes and methods from another class (parent or superclass). Python supports the following five types of inheritance:\n",
        "\n",
        " 1. Single Inheritance\n",
        "Description: A child class inherits from a single parent class.\n",
        "2. Multiple Inheritance\n",
        "Description: A child class inherits from more than one parent class.\n",
        "3. Multilevel Inheritance\n",
        "Description: A child class inherits from a parent class, and another class inherits from the child class.\n",
        "4. Hierarchical Inheritance\n",
        "Description: Multiple child classes inherit from a single parent class.\n",
        "5. Hybrid Inheritance\n",
        "Description: A combination of two or more types of inheritance.\n",
        "\n"
      ],
      "metadata": {
        "id": "HvINIG-Xb-S3"
      }
    },
    {
      "cell_type": "code",
      "source": [
        "class Parent1:\n",
        "    def method1(self):\n",
        "        print(\"Method from Parent1\")\n",
        "\n",
        "class Parent2:\n",
        "    def method2(self):\n",
        "        print(\"Method from Parent2\")\n",
        "\n",
        "class Child(Parent1, Parent2):\n",
        "    def method3(self):\n",
        "        print(\"Method from Child\")\n",
        "\n",
        "obj = Child()\n",
        "obj.method1()\n",
        "obj.method2()\n",
        "obj.method3()\n"
      ],
      "metadata": {
        "colab": {
          "base_uri": "https://localhost:8080/"
        },
        "id": "yLtpLW1Ac46z",
        "outputId": "c2913e45-58b3-47d7-feac-1e9a27233e6a"
      },
      "execution_count": null,
      "outputs": [
        {
          "output_type": "stream",
          "name": "stdout",
          "text": [
            "Method from Parent1\n",
            "Method from Parent2\n",
            "Method from Child\n"
          ]
        }
      ]
    },
    {
      "cell_type": "markdown",
      "source": [
        "7. What is the Method Resolution Order (MRO) in Python? How can you retrieve it programmatically?\n",
        "\n",
        "The Method Resolution Order (MRO) is the order in which Python searches for a method or attribute in a hierarchy of classes. It determines the sequence of classes that are checked when a method is called in the context of inheritance, especially in cases of multiple inheritance.\n",
        "\n",
        "Python uses the C3 Linearization Algorithm to compute the MRO, which ensures:\n",
        "\n",
        "Depth-First Search: It starts by checking the method in the class itself, then moves to the parent classes, and so on.\n",
        "Left-to-Right Order: When multiple parent classes are involved, it follows the order they are listed in the child class declaration.\n",
        "Avoid Repetition: A class is included in the MRO list only once.\n",
        "\n",
        "class A: pass\n",
        "class B(A): pass\n",
        "class C(B): pass\n",
        "\n",
        "print(C.mro())\n",
        "\n",
        "print(C.__mro__)"
      ],
      "metadata": {
        "id": "Sr1PnK80ehc0"
      }
    },
    {
      "cell_type": "code",
      "source": [
        "# 8. Create an abstract base class `Shape` with an abstract method `area()`. Then create two subclasses\n",
        "#`Circle` and `Rectangle` that implement the `area()` method\n",
        "\n",
        "from abc import ABC, abstractmethod\n",
        "\n",
        "\n",
        "# Abstract Base Class\n",
        "class Shape(ABC):\n",
        "    @abstractmethod\n",
        "    def area(self):\n",
        "        pass\n",
        "\n",
        "# Subclass Circle\n",
        "class Circle(Shape):\n",
        "    def __init__(self, radius):\n",
        "        self.radius = radius\n",
        "\n",
        "    def area(self):\n",
        "        return 3.14 * self.radius ** 2\n",
        "\n",
        "# Subclass Rectangle\n",
        "class Rectangle(Shape):\n",
        "    def __init__(self, length, width):\n",
        "        self.length = length\n",
        "        self.width = width\n",
        "\n",
        "    def area(self):\n",
        "        return self.length * self.width\n",
        "\n",
        "# Testing the implementation\n",
        "circle = Circle(radius=5)\n",
        "rectangle = Rectangle(length=10, width=4)\n",
        "\n",
        "print(f\"Circle Area: {circle.area()}\")\n",
        "print(f\"Rectangle Area: {rectangle.area()}\")\n"
      ],
      "metadata": {
        "colab": {
          "base_uri": "https://localhost:8080/"
        },
        "id": "2a5TiLkAfBpn",
        "outputId": "0ae25faf-d4bd-43d4-cb08-1792f984bb6b"
      },
      "execution_count": null,
      "outputs": [
        {
          "output_type": "stream",
          "name": "stdout",
          "text": [
            "Circle Area: 78.5\n",
            "Rectangle Area: 40\n"
          ]
        }
      ]
    },
    {
      "cell_type": "code",
      "source": [
        "#. Demonstrate polymorphism by creating a function that can work with different shape objects to calculate and print their areas.\n",
        "\n",
        "from abc import ABC, abstractmethod\n",
        "\n",
        "\n",
        "\n",
        "class Shape(ABC):\n",
        "    @abstractmethod\n",
        "    def area(self):\n",
        "        \"\"\"Abstract method to calculate the area of a shape.\"\"\"\n",
        "        pass\n",
        "\n",
        "class Circle(Shape):\n",
        "    def __init__(self, radius):\n",
        "        self.radius = radius\n",
        "\n",
        "    def area(self):\n",
        "        return 3.14 * self.radius ** 2\n",
        "\n",
        "\n",
        "class Rectangle(Shape):\n",
        "    def __init__(self, length, width):\n",
        "        self.length = length\n",
        "        self.width = width\n",
        "\n",
        "    def area(self):\n",
        "        return self.length * self.width\n",
        "\n",
        "\n",
        "class Triangle(Shape):\n",
        "    def __init__(self, base, height):\n",
        "        self.base = base\n",
        "        self.height = height\n",
        "\n",
        "    def area(self):\n",
        "        return 0.5 * self.base * self.height\n",
        "\n",
        "\n",
        "def calculate_and_print_area(shape):\n",
        "    \"\"\"Calculates and prints the area of any shape object.\"\"\"\n",
        "    print(f\"The area of the shape is: {shape.area():.2f}\")\n",
        "\n",
        "\n",
        "circle = Circle(radius=7)\n",
        "rectangle = Rectangle(length=10, width=5)\n",
        "triangle = Triangle(base=6, height=8)\n",
        "\n",
        "\n",
        "calculate_and_print_area(circle)\n",
        "calculate_and_print_area(rectangle)\n",
        "calculate_and_print_area(triangle)\n"
      ],
      "metadata": {
        "colab": {
          "base_uri": "https://localhost:8080/"
        },
        "id": "UsYLM6q2gzrU",
        "outputId": "5417551f-4eed-4dc1-c30a-d8f7f772f78e"
      },
      "execution_count": null,
      "outputs": [
        {
          "output_type": "stream",
          "name": "stdout",
          "text": [
            "The area of the shape is: 153.86\n",
            "The area of the shape is: 50.00\n",
            "The area of the shape is: 24.00\n"
          ]
        }
      ]
    },
    {
      "cell_type": "code",
      "source": [
        " #10. Implement encapsulation in a `BankAccount` class with private attributes for `balance` and `account_number`. Include methods for deposit, withdrawal, and balance inquiry\n",
        "\n",
        "class BankAccount:\n",
        "  def __init__(self,acc_num,balance):\n",
        "    self.__acc_num=acc_num\n",
        "    self.__balance=balance\n",
        "\n",
        "  def deposite(self,amount):\n",
        "     self.__balance=self.__balance+amount\n",
        "     print(f\"balance deposited sucessfully ,current balance is{self.__balance}\")\n",
        "\n",
        "\n",
        "  def withdrawal(self,amount_to_withdraw):\n",
        "    if(self.__balance< amount_to_withdraw):\n",
        "      print(f\"insufficient balance ,balance:{self.__balance}\")\n",
        "\n",
        "    else:\n",
        "      self.__balance=self.__balance-amount_to_withdraw\n",
        "      print(f\"withdrawal done,current balance={self.__balance}\")\n",
        "\n",
        "  def balance_inquiry(self):\n",
        "     return self.__balance\n",
        "\n",
        "\n",
        "bank=BankAccount(123,2000)\n",
        "print(bank.balance_inquiry())\n",
        "bank.deposite(amount=100)\n",
        "bank.withdrawal(amount_to_withdraw=3000)\n",
        "bank.withdrawal(amount_to_withdraw=500)\n",
        "\n",
        "\n",
        "\n",
        "\n",
        "\n",
        "\n",
        "\n",
        "\n",
        "\n",
        "\n",
        "\n"
      ],
      "metadata": {
        "colab": {
          "base_uri": "https://localhost:8080/"
        },
        "id": "AiXzA0zGh_Vr",
        "outputId": "cc1adbeb-2fd3-4515-b975-d4e225d8feda"
      },
      "execution_count": null,
      "outputs": [
        {
          "output_type": "stream",
          "name": "stdout",
          "text": [
            "2000\n",
            "balance deposited sucessfully ,current balance is2100\n",
            "insufficient balance ,balance:2100\n",
            "withdrawal done,current balance=1600\n"
          ]
        }
      ]
    },
    {
      "cell_type": "markdown",
      "source": [
        " 11. Write a class that overrides the `__str__` and `__add__` magic methods. What will these methods allow\n",
        "you to do\n",
        "\n",
        "ans: __str__ Method:\n",
        "\n",
        "This method is called when the str() function or print() function is used on an object of the class.\n",
        "By overriding __str__, you can define a human-readable string representation for the objects of your class.\n",
        "__add__ Method:\n",
        "\n",
        "This method is called when the + operator is used between objects of the class (or between the object and another value, depending on implementation).\n",
        "Overriding __add__ allows you to define how objects are \"added\" together or combined."
      ],
      "metadata": {
        "id": "Pc0S4vVA6NjL"
      }
    },
    {
      "cell_type": "code",
      "source": [
        "#example of above ques\n",
        "class Person:\n",
        "    def __init__(self, name, age):\n",
        "        self.name = name\n",
        "        self.age = age\n",
        "\n",
        "    def __str__(self):\n",
        "\n",
        "        return f\"{self.name}, Age: {self.age}\"\n",
        "\n",
        "    def __add__(self, other):\n",
        "\n",
        "        if isinstance(other, Person):\n",
        "            return f\"{self.name} and {other.name} are now friends!\"\n",
        "        return \"Addition not supported between these objects.\"\n",
        "\n",
        "\n",
        "\n",
        "person1 = Person(\"Taniya\", 25)\n",
        "person2 = Person(\"jule\", 30)\n",
        "\n",
        "\n",
        "print(person1)\n",
        "print(person2)\n",
        "\n",
        "\n",
        "friendship = person1 + person2\n",
        "print(friendship)\n",
        "\n"
      ],
      "metadata": {
        "colab": {
          "base_uri": "https://localhost:8080/"
        },
        "id": "zAQ9n1s06ZgJ",
        "outputId": "319b482b-4a98-427a-c5a5-3adc35a257ee"
      },
      "execution_count": 2,
      "outputs": [
        {
          "output_type": "stream",
          "name": "stdout",
          "text": [
            "Taniya, Age: 25\n",
            "jule, Age: 30\n",
            "Taniya and jule are now friends!\n"
          ]
        }
      ]
    },
    {
      "cell_type": "code",
      "source": [
        "# 12\n",
        "import time\n",
        "\n",
        "def execution_time(func):\n",
        "    def wrapper(*args,**kwargs):\n",
        "      start_time=time.time()\n",
        "      result= func(*args,**kwargs)\n",
        "      end_time=time.time()\n",
        "      execution_time=end_time-start_time\n",
        "      print(f\"execution time of {func.__name__}:{execution_time:.4f} seconds\")\n",
        "      return result\n",
        "    return wrapper\n",
        "\n",
        "@execution_time\n",
        "def mult_numbers(a, b):\n",
        "  return a * b\n",
        "\n",
        "solution= mult_numbers(5, 10)\n",
        "print(solution)\n",
        "\n"
      ],
      "metadata": {
        "colab": {
          "base_uri": "https://localhost:8080/"
        },
        "id": "h2Z1X1EC-z7w",
        "outputId": "a194a18a-833f-44b4-c0e5-44115e91ce10"
      },
      "execution_count": 11,
      "outputs": [
        {
          "output_type": "stream",
          "name": "stdout",
          "text": [
            "execution time of mult_numbers:0.0000 seconds\n",
            "50\n"
          ]
        }
      ]
    },
    {
      "cell_type": "markdown",
      "source": [
        "13.Explain the concept of the Diamond Problem in multiple inheritance. How does Python resolve it\n",
        "\n",
        "ans: The Diamond Problem occurs when a class inherits from two classes, and those two classes both inherit from the same parent class. This creates ambiguity about which method to call when the child class uses a method that is present in multiple parent classes.\n",
        "       A\n",
        "     /   \\\n",
        "    B     C\n",
        "     \\   /\n",
        "       D\n",
        "\n",
        "Class A is the base class.\n",
        "Class B and Class C both inherit from A.\n",
        "Class D inherits from both B and C.\n",
        "Now, suppose B and C both have a method that overrides a method in A. If D calls that method, which one should be called — the one in B or the one in C? This is the Diamond Problem.  \n",
        "\n",
        "Python resolves this ambiguity using Method Resolution Order (MRO). The MRO determines the order in which classes are searched for a method.\n",
        "\n",
        "Method Resolution Order (MRO) in Python\n",
        "Python follows an algorithm called C3 Linearization to decide the order in which to look for methods in the class hierarchy.\n",
        "\n",
        "For Class D, Python follows this MRO:\n",
        "\n",
        "D\n",
        "B (since D inherits from B first)\n",
        "C (since D inherits from C second)\n",
        "A (the common ancestor of B and C)\n",
        "object (the base class for all classes in Python)\n",
        "So, Python looks in D first, then in B, and finally in A. Since B has an overridden version of the method, it is chosen. C's version of the method is ignored.\n"
      ],
      "metadata": {
        "id": "UXOAj93MECfR"
      }
    },
    {
      "cell_type": "code",
      "source": [
        "#14. Write a class method that keeps track of the number of instances created from a class.\n",
        "\n",
        "class Car:\n",
        "  total_instances=0\n",
        "  def __init__(self,model,year):\n",
        "    self.model=model\n",
        "    self.year=year\n",
        "    Car.total_instances=Car.total_instances+1\n",
        "\n",
        "  def display_detail(self):\n",
        "    return self.model\n",
        "    return self.year\n",
        "\n",
        "toyota=Car(\"saffari\",2019)\n",
        "honda1=Car(\"honda city\",2019)\n",
        "print(f\" total instances of car is:{Car.total_instances}\")\n",
        "\n"
      ],
      "metadata": {
        "colab": {
          "base_uri": "https://localhost:8080/"
        },
        "id": "64Vz0V5bEMWF",
        "outputId": "cec365de-c1e6-4f11-f612-4cc6c3cbe825"
      },
      "execution_count": 16,
      "outputs": [
        {
          "output_type": "stream",
          "name": "stdout",
          "text": [
            " total instances of car is:2\n"
          ]
        }
      ]
    },
    {
      "cell_type": "code",
      "source": [
        "#15  15. Implement a static method in a class that checks if a given year is a leap year\n",
        "class Year:\n",
        "\n",
        "  def __init__(self,year):\n",
        "    self.year=year\n",
        "\n",
        "  def is_leap_year(self):\n",
        "\n",
        "      if(self.year%4==0 and self.year%100!=0) or (self.year % 400 == 0):\n",
        "          return True\n",
        "      else:\n",
        "          return False\n",
        "\n",
        "leap=Year(2020)\n",
        "print(leap.is_leap_year())\n",
        "leap1=Year(2022)\n",
        "print(leap1.is_leap_year())"
      ],
      "metadata": {
        "colab": {
          "base_uri": "https://localhost:8080/"
        },
        "id": "tDrUNhDuHKsx",
        "outputId": "f5d2e611-d2fe-4053-d192-e853fd084de2"
      },
      "execution_count": 22,
      "outputs": [
        {
          "output_type": "stream",
          "name": "stdout",
          "text": [
            "True\n",
            "False\n"
          ]
        }
      ]
    }
  ]
}